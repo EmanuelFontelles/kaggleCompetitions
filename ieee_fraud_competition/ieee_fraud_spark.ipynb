{
 "cells": [
  {
   "cell_type": "code",
   "execution_count": 3,
   "metadata": {},
   "outputs": [],
   "source": [
    "from pyspark.sql import SparkSession\n",
    "from pyspark.sql import functions as F\n",
    "from pyspark.sql import Window\n",
    "\n",
    "import numpy as np\n",
    "import matplotlib.pyplot as plt\n",
    "\n",
    "# setup spark session\n",
    "spark = SparkSession.builder.appName('ieee_fraud_detection').getOrCreate()\n",
    "\n",
    "path = '/storage/datasets/ieee/'\n",
    "filenames = {'train_identity': 'train_identity.csv',\\\n",
    "             'train_transaction': 'train_transaction.csv',\\\n",
    "             'test_identity': 'test_identity.csv',\\\n",
    "             'test_transaction': 'test_transaction.csv'}"
   ]
  },
  {
   "cell_type": "code",
   "execution_count": 4,
   "metadata": {},
   "outputs": [],
   "source": [
    "train_identity = spark.read.csv(path+filenames['train_identity'], header=True, inferSchema=True)\n",
    "train_transaction = spark.read.csv(path+filenames['train_transaction'], header=True, inferSchema=True)\n",
    "test_identity = spark.read.csv(path+filenames['test_identity'], header=True, inferSchema=True)\n",
    "test_transaction = spark.read.csv(path+filenames['test_transaction'], header=True, inferSchema=True)\n",
    "\n",
    "trainingData = train_transaction.join(train_identity, on=['TransactionID'])\n",
    "testData = test_transaction.join(test_identity, on=['TransactionID'])"
   ]
  },
  {
   "cell_type": "code",
   "execution_count": null,
   "metadata": {},
   "outputs": [],
   "source": [
    "from pyspark.ml import Pipeline\n",
    "from pyspark.ml.feature import OneHotEncoderEstimator, StringIndexer, VectorAssembler\n",
    "\n",
    "trainingData = trainingData.fillna('0')\n",
    "trainingData = trainingData.fillna(0)\n",
    "#trainingData = trainingData.withColumn('isFraud', F.col('isFraud').astype('string'))\n",
    "\n",
    "testData = testData.fillna('0')\n",
    "testData = testData.fillna(0)"
   ]
  },
  {
   "cell_type": "code",
   "execution_count": null,
   "metadata": {},
   "outputs": [],
   "source": [
    "categoricalColumns = [\"ProductCD\", \"TransactionAmt\", \"DeviceType\", \"DeviceInfo\"]\n",
    "stages = [] # stages in our Pipeline\n",
    "\n",
    "for categoricalCol in categoricalColumns:\n",
    "    stringIndexer = StringIndexer(inputCol=categoricalCol, outputCol=categoricalCol + \"Index\", handleInvalid='error')\n",
    "    encoder = OneHotEncoderEstimator(inputCols=[stringIndexer.getOutputCol()], outputCols=[categoricalCol + \"_ohe\"], handleInvalid='error')\n",
    "    stages += [stringIndexer, encoder]\n",
    "\n",
    "# Transform all features into a vector using VectorAssembler\n",
    "numericCols = [\"V1\"]\n",
    "\n",
    "assemblerInputs = [c + \"_ohe\" for c in categoricalColumns] + numericCols\n",
    "\n",
    "assembler = VectorAssembler(inputCols=assemblerInputs, outputCol=\"features\")\n",
    "stages += [assembler]\n",
    "features = assembler.getInputCols()    \n",
    "\n",
    "# Convert label into label indices using the StringIndexer\n",
    "#label_stringIdx = StringIndexer(inputCol=\"isFraud\", outputCol=\"label\")\n",
    "#stages += [label_stringIdx]\n",
    "\n",
    "# Applying Pipeline\n",
    "partialPipeline = Pipeline().setStages(stages)\n",
    "pipelineModel = partialPipeline.fit(trainingData)\n",
    "preppedDataDF = pipelineModel.transform(trainingData)\n",
    "trainingData = preppedDataDF\n",
    "\n",
    "\n",
    "# Create an initial RandomForest model.\n",
    "from pyspark.ml.classification import RandomForestClassifier\n",
    "\n",
    "rf = RandomForestClassifier(labelCol=\"isFraud\", featuresCol=\"features\")\n",
    "\n",
    "# Randomly split data into training and test sets. set seed for reproducibility\n",
    "(trainingData, testData) = trainingData.randomSplit([0.7, 0.3], seed=100)\n",
    "\n",
    "# Train model with Training Data\n",
    "rfModel = rf.fit(trainingData)\n",
    "\n",
    "def getMLAttributes(dataframe):\n",
    "    r'''\n",
    "    Return a list of indexes and column name used on featuresCol object\n",
    "    \n",
    "    Parameters:\n",
    "    -----------\n",
    "    dataframe: A Spark DataFrame\n",
    "    '''\n",
    "    from itertools import chain    \n",
    "    return sorted((attr[\"idx\"], attr[\"name\"]) for attr in (chain(*dataframe.schema[\"features\"].metadata[\"ml_attr\"][\"attrs\"].values())))\n",
    "\n",
    "def mapFeaturesImportance(dataframe, ml_estimator):\n",
    "    r'''\n",
    "    We can map features looking for dataframe metadata\n",
    "    \n",
    "    Parameters:\n",
    "    -----------\n",
    "    dataframe: A Spark DataFrame\n",
    "    \n",
    "    ml_estimator: Estimator instancied before. The estimator\n",
    "        needs to be fitted before applying this method.\n",
    "        PS: Until now, only works with trees estimators\n",
    "            GBT, RF and Decision Tree\n",
    "        \n",
    "    Return:\n",
    "    -------\n",
    "    features_importance_mapped = A `dict` which contains features named and\n",
    "        its importance in the given estimator\n",
    "    '''\n",
    "    \n",
    "    #attrs = sorted((attr[\"idx\"], attr[\"name\"]) for attr in (chain(*dataframe.schema[\"features\"].metadata[\"ml_attr\"][\"attrs\"].values())))\n",
    "    attrs = getMLAttributes(dataframe)\n",
    "    return {name: ml_estimator.featureImportances[idx] for idx, name in attrs if ml_estimator.featureImportances[idx]}"
   ]
  },
  {
   "cell_type": "code",
   "execution_count": 18,
   "metadata": {},
   "outputs": [
    {
     "data": {
      "image/png": "[encoded data removed]",
      "text/plain": [
       "<Figure size 432x288 with 1 Axes>"
      ]
     },
     "metadata": {
      "needs_background": "light"
     },
     "output_type": "display_data"
    }
   ],
   "source": [
    "data = mapFeaturesImportance(trainingData, rfModel)\n",
    "plt.barh(list(data.keys())[0:10], list(data.values())[0:10]); plt.tight_layout();"
   ]
  },
  {
   "cell_type": "code",
   "execution_count": null,
   "metadata": {},
   "outputs": [],
   "source": [
    "len(trainingData.columns)\n",
    "len(testData.columns)\n",
    "\n",
    "#testData = pipelineModel.transform(testData)\n",
    "predictions = rfModel.transform(testData)"
   ]
  },
  {
   "cell_type": "code",
   "execution_count": 13,
   "metadata": {},
   "outputs": [
    {
     "name": "stdout",
     "output_type": "stream",
     "text": [
      "+----------+---------------------------------------+----------------------------------------+-------+\n",
      "|prediction|                          rawPrediction|                             probability|isFraud|\n",
      "+----------+---------------------------------------+----------------------------------------+-------+\n",
      "|       0.0|[18.461553672665904,1.5384463273340985]| [0.923077683633295,0.07692231636670491]|      0|\n",
      "|       0.0| [18.578044361659156,1.421955638340842]|[0.9289022180829578,0.07109778191704211]|      0|\n",
      "|       0.0|   [18.37217549267266,1.62782450732734]|   [0.918608774633633,0.081391225366367]|      0|\n",
      "|       0.0| [18.44142897548533,1.5585710245146693]|[0.9220714487742665,0.07792855122573347]|      0|\n",
      "|       0.0|[18.403378096773906,1.5966219032260909]|[0.9201689048386955,0.07983109516130456]|      0|\n",
      "|       0.0|[18.403378096773906,1.5966219032260909]|[0.9201689048386955,0.07983109516130456]|      0|\n",
      "|       0.0| [18.578044361659156,1.421955638340842]|[0.9289022180829578,0.07109778191704211]|      0|\n",
      "|       0.0| [18.44142897548533,1.5585710245146693]|[0.9220714487742665,0.07792855122573347]|      0|\n",
      "|       0.0|[18.403378096773906,1.5966219032260909]|[0.9201689048386955,0.07983109516130456]|      0|\n",
      "|       0.0|[18.461553672665904,1.5384463273340985]| [0.923077683633295,0.07692231636670491]|      0|\n",
      "|       0.0| [18.44142897548533,1.5585710245146693]|[0.9220714487742665,0.07792855122573347]|      0|\n",
      "|       0.0|[18.461553672665904,1.5384463273340985]| [0.923077683633295,0.07692231636670491]|      0|\n",
      "|       0.0|[18.461553672665904,1.5384463273340985]| [0.923077683633295,0.07692231636670491]|      0|\n",
      "|       0.0|[18.461553672665904,1.5384463273340985]| [0.923077683633295,0.07692231636670491]|      0|\n",
      "|       0.0|[18.334124613961237,1.6658753860387616]|[0.9167062306980618,0.08329376930193808]|      0|\n",
      "|       0.0|[18.403378096773906,1.5966219032260909]|[0.9201689048386955,0.07983109516130456]|      1|\n",
      "|       0.0|[18.461553672665904,1.5384463273340985]| [0.923077683633295,0.07692231636670491]|      0|\n",
      "|       0.0|[18.461553672665904,1.5384463273340985]| [0.923077683633295,0.07692231636670491]|      0|\n",
      "|       0.0|   [18.37217549267266,1.62782450732734]|   [0.918608774633633,0.081391225366367]|      0|\n",
      "|       0.0| [18.63621993755115,1.3637800624488496]|[0.9318109968775575,0.06818900312244248]|      0|\n",
      "+----------+---------------------------------------+----------------------------------------+-------+\n",
      "only showing top 20 rows\n",
      "\n"
     ]
    }
   ],
   "source": [
    "predictions.select('prediction', 'rawPrediction', 'probability', 'isFraud').show(truncate=100)"
   ]
  },
  {
   "cell_type": "code",
   "execution_count": 14,
   "metadata": {},
   "outputs": [
    {
     "data": {
      "text/plain": [
       "0.6570464643176073"
      ]
     },
     "execution_count": 14,
     "metadata": {},
     "output_type": "execute_result"
    }
   ],
   "source": [
    "from pyspark.ml.evaluation import BinaryClassificationEvaluator, MulticlassClassificationEvaluator\n",
    "\n",
    "# Evaluate model\n",
    "evaluator = BinaryClassificationEvaluator(labelCol='isFraud')\n",
    "evaluator.evaluate(predictions)"
   ]
  },
  {
   "cell_type": "code",
   "execution_count": 17,
   "metadata": {},
   "outputs": [
    {
     "data": {
      "text/plain": [
       "'areaUnderROC'"
      ]
     },
     "execution_count": 17,
     "metadata": {},
     "output_type": "execute_result"
    }
   ],
   "source": [
    "evaluator.getMetricName()"
   ]
  }
 ],
 "metadata": {
  "kernelspec": {
   "display_name": "Python 3",
   "language": "python",
   "name": "python3"
  },
  "language_info": {
   "codemirror_mode": {
    "name": "ipython",
    "version": 3
   },
   "file_extension": ".py",
   "mimetype": "text/x-python",
   "name": "python",
   "nbconvert_exporter": "python",
   "pygments_lexer": "ipython3",
   "version": "3.7.3"
  }
 },
 "nbformat": 4,
 "nbformat_minor": 4
}
