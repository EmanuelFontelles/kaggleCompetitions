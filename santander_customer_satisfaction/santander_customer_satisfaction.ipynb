{
 "cells": [
  {
   "cell_type": "code",
   "execution_count": 1,
   "metadata": {
    "collapsed": false,
    "jupyter": {
     "outputs_hidden": false
    }
   },
   "outputs": [
    {
     "data": {
      "text/html": [
       "<div>\n",
       "<style scoped>\n",
       "    .dataframe tbody tr th:only-of-type {\n",
       "        vertical-align: middle;\n",
       "    }\n",
       "\n",
       "    .dataframe tbody tr th {\n",
       "        vertical-align: top;\n",
       "    }\n",
       "\n",
       "    .dataframe thead th {\n",
       "        text-align: right;\n",
       "    }\n",
       "</style>\n",
       "<table border=\"1\" class=\"dataframe\">\n",
       "  <thead>\n",
       "    <tr style=\"text-align: right;\">\n",
       "      <th></th>\n",
       "      <th>ID</th>\n",
       "      <th>var3</th>\n",
       "      <th>var15</th>\n",
       "      <th>imp_ent_var16_ult1</th>\n",
       "      <th>imp_op_var39_comer_ult1</th>\n",
       "      <th>imp_op_var39_comer_ult3</th>\n",
       "      <th>imp_op_var40_comer_ult1</th>\n",
       "      <th>imp_op_var40_comer_ult3</th>\n",
       "      <th>imp_op_var40_efect_ult1</th>\n",
       "      <th>imp_op_var40_efect_ult3</th>\n",
       "      <th>...</th>\n",
       "      <th>saldo_medio_var33_hace2</th>\n",
       "      <th>saldo_medio_var33_hace3</th>\n",
       "      <th>saldo_medio_var33_ult1</th>\n",
       "      <th>saldo_medio_var33_ult3</th>\n",
       "      <th>saldo_medio_var44_hace2</th>\n",
       "      <th>saldo_medio_var44_hace3</th>\n",
       "      <th>saldo_medio_var44_ult1</th>\n",
       "      <th>saldo_medio_var44_ult3</th>\n",
       "      <th>var38</th>\n",
       "      <th>TARGET</th>\n",
       "    </tr>\n",
       "  </thead>\n",
       "  <tbody>\n",
       "    <tr>\n",
       "      <td>0</td>\n",
       "      <td>1</td>\n",
       "      <td>2</td>\n",
       "      <td>23</td>\n",
       "      <td>0.0</td>\n",
       "      <td>0.0</td>\n",
       "      <td>0.0</td>\n",
       "      <td>0.0</td>\n",
       "      <td>0.0</td>\n",
       "      <td>0.0</td>\n",
       "      <td>0.0</td>\n",
       "      <td>...</td>\n",
       "      <td>0.0</td>\n",
       "      <td>0.0</td>\n",
       "      <td>0.0</td>\n",
       "      <td>0.0</td>\n",
       "      <td>0.0</td>\n",
       "      <td>0.0</td>\n",
       "      <td>0.0</td>\n",
       "      <td>0.0</td>\n",
       "      <td>39205.170000</td>\n",
       "      <td>0</td>\n",
       "    </tr>\n",
       "    <tr>\n",
       "      <td>1</td>\n",
       "      <td>3</td>\n",
       "      <td>2</td>\n",
       "      <td>34</td>\n",
       "      <td>0.0</td>\n",
       "      <td>0.0</td>\n",
       "      <td>0.0</td>\n",
       "      <td>0.0</td>\n",
       "      <td>0.0</td>\n",
       "      <td>0.0</td>\n",
       "      <td>0.0</td>\n",
       "      <td>...</td>\n",
       "      <td>0.0</td>\n",
       "      <td>0.0</td>\n",
       "      <td>0.0</td>\n",
       "      <td>0.0</td>\n",
       "      <td>0.0</td>\n",
       "      <td>0.0</td>\n",
       "      <td>0.0</td>\n",
       "      <td>0.0</td>\n",
       "      <td>49278.030000</td>\n",
       "      <td>0</td>\n",
       "    </tr>\n",
       "    <tr>\n",
       "      <td>2</td>\n",
       "      <td>4</td>\n",
       "      <td>2</td>\n",
       "      <td>23</td>\n",
       "      <td>0.0</td>\n",
       "      <td>0.0</td>\n",
       "      <td>0.0</td>\n",
       "      <td>0.0</td>\n",
       "      <td>0.0</td>\n",
       "      <td>0.0</td>\n",
       "      <td>0.0</td>\n",
       "      <td>...</td>\n",
       "      <td>0.0</td>\n",
       "      <td>0.0</td>\n",
       "      <td>0.0</td>\n",
       "      <td>0.0</td>\n",
       "      <td>0.0</td>\n",
       "      <td>0.0</td>\n",
       "      <td>0.0</td>\n",
       "      <td>0.0</td>\n",
       "      <td>67333.770000</td>\n",
       "      <td>0</td>\n",
       "    </tr>\n",
       "    <tr>\n",
       "      <td>3</td>\n",
       "      <td>8</td>\n",
       "      <td>2</td>\n",
       "      <td>37</td>\n",
       "      <td>0.0</td>\n",
       "      <td>195.0</td>\n",
       "      <td>195.0</td>\n",
       "      <td>0.0</td>\n",
       "      <td>0.0</td>\n",
       "      <td>0.0</td>\n",
       "      <td>0.0</td>\n",
       "      <td>...</td>\n",
       "      <td>0.0</td>\n",
       "      <td>0.0</td>\n",
       "      <td>0.0</td>\n",
       "      <td>0.0</td>\n",
       "      <td>0.0</td>\n",
       "      <td>0.0</td>\n",
       "      <td>0.0</td>\n",
       "      <td>0.0</td>\n",
       "      <td>64007.970000</td>\n",
       "      <td>0</td>\n",
       "    </tr>\n",
       "    <tr>\n",
       "      <td>4</td>\n",
       "      <td>10</td>\n",
       "      <td>2</td>\n",
       "      <td>39</td>\n",
       "      <td>0.0</td>\n",
       "      <td>0.0</td>\n",
       "      <td>0.0</td>\n",
       "      <td>0.0</td>\n",
       "      <td>0.0</td>\n",
       "      <td>0.0</td>\n",
       "      <td>0.0</td>\n",
       "      <td>...</td>\n",
       "      <td>0.0</td>\n",
       "      <td>0.0</td>\n",
       "      <td>0.0</td>\n",
       "      <td>0.0</td>\n",
       "      <td>0.0</td>\n",
       "      <td>0.0</td>\n",
       "      <td>0.0</td>\n",
       "      <td>0.0</td>\n",
       "      <td>117310.979016</td>\n",
       "      <td>0</td>\n",
       "    </tr>\n",
       "  </tbody>\n",
       "</table>\n",
       "<p>5 rows × 371 columns</p>\n",
       "</div>"
      ],
      "text/plain": [
       "   ID  var3  var15  imp_ent_var16_ult1  imp_op_var39_comer_ult1  \\\n",
       "0   1     2     23                 0.0                      0.0   \n",
       "1   3     2     34                 0.0                      0.0   \n",
       "2   4     2     23                 0.0                      0.0   \n",
       "3   8     2     37                 0.0                    195.0   \n",
       "4  10     2     39                 0.0                      0.0   \n",
       "\n",
       "   imp_op_var39_comer_ult3  imp_op_var40_comer_ult1  imp_op_var40_comer_ult3  \\\n",
       "0                      0.0                      0.0                      0.0   \n",
       "1                      0.0                      0.0                      0.0   \n",
       "2                      0.0                      0.0                      0.0   \n",
       "3                    195.0                      0.0                      0.0   \n",
       "4                      0.0                      0.0                      0.0   \n",
       "\n",
       "   imp_op_var40_efect_ult1  imp_op_var40_efect_ult3  ...  \\\n",
       "0                      0.0                      0.0  ...   \n",
       "1                      0.0                      0.0  ...   \n",
       "2                      0.0                      0.0  ...   \n",
       "3                      0.0                      0.0  ...   \n",
       "4                      0.0                      0.0  ...   \n",
       "\n",
       "   saldo_medio_var33_hace2  saldo_medio_var33_hace3  saldo_medio_var33_ult1  \\\n",
       "0                      0.0                      0.0                     0.0   \n",
       "1                      0.0                      0.0                     0.0   \n",
       "2                      0.0                      0.0                     0.0   \n",
       "3                      0.0                      0.0                     0.0   \n",
       "4                      0.0                      0.0                     0.0   \n",
       "\n",
       "   saldo_medio_var33_ult3  saldo_medio_var44_hace2  saldo_medio_var44_hace3  \\\n",
       "0                     0.0                      0.0                      0.0   \n",
       "1                     0.0                      0.0                      0.0   \n",
       "2                     0.0                      0.0                      0.0   \n",
       "3                     0.0                      0.0                      0.0   \n",
       "4                     0.0                      0.0                      0.0   \n",
       "\n",
       "   saldo_medio_var44_ult1  saldo_medio_var44_ult3          var38  TARGET  \n",
       "0                     0.0                     0.0   39205.170000       0  \n",
       "1                     0.0                     0.0   49278.030000       0  \n",
       "2                     0.0                     0.0   67333.770000       0  \n",
       "3                     0.0                     0.0   64007.970000       0  \n",
       "4                     0.0                     0.0  117310.979016       0  \n",
       "\n",
       "[5 rows x 371 columns]"
      ]
     },
     "execution_count": 1,
     "metadata": {},
     "output_type": "execute_result"
    }
   ],
   "source": [
    "# Based on https://www.kaggle.com/benhamner/d/uciml/iris/python-data-visualizations/notebook\n",
    "# First, we'll import pandas, a data processing and CSV file I/O library\n",
    "import pandas as pd\n",
    "import numpy as np\n",
    "\n",
    "# We'll also import seaborn, a Python graphing library\n",
    "import warnings # current version of seaborn generates a bunch of warnings that we'll ignore\n",
    "warnings.filterwarnings(\"ignore\")\n",
    "import seaborn as sns\n",
    "\n",
    "import matplotlib.pyplot as plt\n",
    "sns.set(style=\"white\", color_codes=True)\n",
    "\n",
    "# Next, we'll load the train and test dataset, which is in the \"../input/\" directory\n",
    "train = pd.read_csv(\"./data/train.csv\") # the train dataset is now a Pandas DataFrame\n",
    "test = pd.read_csv(\"./data/test.csv\") # the train dataset is now a Pandas DataFrame\n",
    "\n",
    "# Let's see what's in the trainings data - Jupyter notebooks print the result of the last thing you do\n",
    "train.head()\n",
    "\n",
    "# Press shift+enter to execute this cell"
   ]
  },
  {
   "cell_type": "code",
   "execution_count": 51,
   "metadata": {},
   "outputs": [],
   "source": [
    "var39 = train.columns.str.contains('.var39*')\n",
    "var39_columns = train.columns[var39]"
   ]
  },
  {
   "cell_type": "code",
   "execution_count": 52,
   "metadata": {},
   "outputs": [
    {
     "data": {
      "text/plain": [
       "Index(['imp_op_var39_comer_ult1', 'imp_op_var39_comer_ult3',\n",
       "       'imp_op_var39_efect_ult1', 'imp_op_var39_efect_ult3',\n",
       "       'imp_op_var39_ult1', 'ind_var30_0', 'ind_var30', 'ind_var31_0',\n",
       "       'ind_var31', 'ind_var32_cte', 'ind_var32_0', 'ind_var32', 'ind_var33_0',\n",
       "       'ind_var33', 'ind_var34_0', 'ind_var34', 'ind_var37_cte', 'ind_var37_0',\n",
       "       'ind_var37', 'ind_var39_0', 'ind_var39', 'num_op_var39_hace2',\n",
       "       'num_op_var39_hace3', 'num_op_var39_ult1', 'num_op_var39_ult3',\n",
       "       'num_var30_0', 'num_var30', 'num_var31_0', 'num_var31', 'num_var32_0',\n",
       "       'num_var32', 'num_var33_0', 'num_var33', 'num_var34_0', 'num_var34',\n",
       "       'num_var35', 'num_var37_med_ult2', 'num_var37_0', 'num_var37',\n",
       "       'num_var39_0', 'num_var39', 'saldo_var30', 'saldo_var31', 'saldo_var32',\n",
       "       'saldo_var33', 'saldo_var34', 'saldo_var37',\n",
       "       'delta_imp_amort_var34_1y3', 'delta_imp_aport_var33_1y3',\n",
       "       'delta_imp_reemb_var33_1y3', 'delta_imp_trasp_var33_in_1y3',\n",
       "       'delta_imp_trasp_var33_out_1y3', 'delta_num_aport_var33_1y3',\n",
       "       'delta_num_reemb_var33_1y3', 'delta_num_trasp_var33_in_1y3',\n",
       "       'delta_num_trasp_var33_out_1y3', 'imp_amort_var34_hace3',\n",
       "       'imp_amort_var34_ult1', 'imp_aport_var33_hace3', 'imp_aport_var33_ult1',\n",
       "       'imp_reemb_var33_hace3', 'imp_reemb_var33_ult1', 'imp_trans_var37_ult1',\n",
       "       'imp_trasp_var33_in_hace3', 'imp_trasp_var33_in_ult1',\n",
       "       'imp_trasp_var33_out_hace3', 'imp_trasp_var33_out_ult1',\n",
       "       'num_aport_var33_hace3', 'num_aport_var33_ult1', 'num_meses_var33_ult3',\n",
       "       'num_meses_var39_vig_ult3', 'num_op_var39_comer_ult1',\n",
       "       'num_op_var39_comer_ult3', 'num_op_var39_efect_ult1',\n",
       "       'num_op_var39_efect_ult3', 'num_reemb_var33_hace3',\n",
       "       'num_reemb_var33_ult1', 'num_trasp_var33_in_hace3',\n",
       "       'num_trasp_var33_in_ult1', 'num_trasp_var33_out_hace3',\n",
       "       'num_trasp_var33_out_ult1', 'saldo_medio_var33_hace2',\n",
       "       'saldo_medio_var33_hace3', 'saldo_medio_var33_ult1',\n",
       "       'saldo_medio_var33_ult3'],\n",
       "      dtype='object')"
      ]
     },
     "execution_count": 52,
     "metadata": {},
     "output_type": "execute_result"
    }
   ],
   "source": [
    "var39_columns"
   ]
  },
  {
   "cell_type": "code",
   "execution_count": 53,
   "metadata": {},
   "outputs": [
    {
     "ename": "AttributeError",
     "evalue": "'str' object has no attribute 'contains'",
     "output_type": "error",
     "traceback": [
      "\u001b[0;31m---------------------------------------------------------------------------\u001b[0m",
      "\u001b[0;31mAttributeError\u001b[0m                            Traceback (most recent call last)",
      "\u001b[0;32m<ipython-input-53-2443e9749c0d>\u001b[0m in \u001b[0;36m<module>\u001b[0;34m\u001b[0m\n\u001b[0;32m----> 1\u001b[0;31m \u001b[0mtrain\u001b[0m\u001b[0;34m.\u001b[0m\u001b[0mcolumns\u001b[0m\u001b[0;34m[\u001b[0m\u001b[0mtrain\u001b[0m\u001b[0;34m.\u001b[0m\u001b[0mcolumns\u001b[0m\u001b[0;34m.\u001b[0m\u001b[0mmap\u001b[0m\u001b[0;34m(\u001b[0m\u001b[0;32mlambda\u001b[0m \u001b[0mx\u001b[0m\u001b[0;34m:\u001b[0m \u001b[0mx\u001b[0m\u001b[0;34m.\u001b[0m\u001b[0mcontains\u001b[0m\u001b[0;34m(\u001b[0m\u001b[0;34m\".var39*\"\u001b[0m\u001b[0;34m)\u001b[0m\u001b[0;34m)\u001b[0m\u001b[0;34m]\u001b[0m\u001b[0;34m\u001b[0m\u001b[0;34m\u001b[0m\u001b[0m\n\u001b[0m",
      "\u001b[0;32m~/.virtualenvs/santander_case/lib/python3.7/site-packages/pandas/core/indexes/base.py\u001b[0m in \u001b[0;36mmap\u001b[0;34m(self, mapper, na_action)\u001b[0m\n\u001b[1;32m   4879\u001b[0m         \u001b[0;32mfrom\u001b[0m \u001b[0;34m.\u001b[0m\u001b[0mmulti\u001b[0m \u001b[0;32mimport\u001b[0m \u001b[0mMultiIndex\u001b[0m\u001b[0;34m\u001b[0m\u001b[0;34m\u001b[0m\u001b[0m\n\u001b[1;32m   4880\u001b[0m \u001b[0;34m\u001b[0m\u001b[0m\n\u001b[0;32m-> 4881\u001b[0;31m         \u001b[0mnew_values\u001b[0m \u001b[0;34m=\u001b[0m \u001b[0msuper\u001b[0m\u001b[0;34m(\u001b[0m\u001b[0;34m)\u001b[0m\u001b[0;34m.\u001b[0m\u001b[0m_map_values\u001b[0m\u001b[0;34m(\u001b[0m\u001b[0mmapper\u001b[0m\u001b[0;34m,\u001b[0m \u001b[0mna_action\u001b[0m\u001b[0;34m=\u001b[0m\u001b[0mna_action\u001b[0m\u001b[0;34m)\u001b[0m\u001b[0;34m\u001b[0m\u001b[0;34m\u001b[0m\u001b[0m\n\u001b[0m\u001b[1;32m   4882\u001b[0m \u001b[0;34m\u001b[0m\u001b[0m\n\u001b[1;32m   4883\u001b[0m         \u001b[0mattributes\u001b[0m \u001b[0;34m=\u001b[0m \u001b[0mself\u001b[0m\u001b[0;34m.\u001b[0m\u001b[0m_get_attributes_dict\u001b[0m\u001b[0;34m(\u001b[0m\u001b[0;34m)\u001b[0m\u001b[0;34m\u001b[0m\u001b[0;34m\u001b[0m\u001b[0m\n",
      "\u001b[0;32m~/.virtualenvs/santander_case/lib/python3.7/site-packages/pandas/core/base.py\u001b[0m in \u001b[0;36m_map_values\u001b[0;34m(self, mapper, na_action)\u001b[0m\n\u001b[1;32m   1298\u001b[0m \u001b[0;34m\u001b[0m\u001b[0m\n\u001b[1;32m   1299\u001b[0m         \u001b[0;31m# mapper is a function\u001b[0m\u001b[0;34m\u001b[0m\u001b[0;34m\u001b[0m\u001b[0;34m\u001b[0m\u001b[0m\n\u001b[0;32m-> 1300\u001b[0;31m         \u001b[0mnew_values\u001b[0m \u001b[0;34m=\u001b[0m \u001b[0mmap_f\u001b[0m\u001b[0;34m(\u001b[0m\u001b[0mvalues\u001b[0m\u001b[0;34m,\u001b[0m \u001b[0mmapper\u001b[0m\u001b[0;34m)\u001b[0m\u001b[0;34m\u001b[0m\u001b[0;34m\u001b[0m\u001b[0m\n\u001b[0m\u001b[1;32m   1301\u001b[0m \u001b[0;34m\u001b[0m\u001b[0m\n\u001b[1;32m   1302\u001b[0m         \u001b[0;32mreturn\u001b[0m \u001b[0mnew_values\u001b[0m\u001b[0;34m\u001b[0m\u001b[0;34m\u001b[0m\u001b[0m\n",
      "\u001b[0;32mpandas/_libs/lib.pyx\u001b[0m in \u001b[0;36mpandas._libs.lib.map_infer\u001b[0;34m()\u001b[0m\n",
      "\u001b[0;32m<ipython-input-53-2443e9749c0d>\u001b[0m in \u001b[0;36m<lambda>\u001b[0;34m(x)\u001b[0m\n\u001b[0;32m----> 1\u001b[0;31m \u001b[0mtrain\u001b[0m\u001b[0;34m.\u001b[0m\u001b[0mcolumns\u001b[0m\u001b[0;34m[\u001b[0m\u001b[0mtrain\u001b[0m\u001b[0;34m.\u001b[0m\u001b[0mcolumns\u001b[0m\u001b[0;34m.\u001b[0m\u001b[0mmap\u001b[0m\u001b[0;34m(\u001b[0m\u001b[0;32mlambda\u001b[0m \u001b[0mx\u001b[0m\u001b[0;34m:\u001b[0m \u001b[0mx\u001b[0m\u001b[0;34m.\u001b[0m\u001b[0mcontains\u001b[0m\u001b[0;34m(\u001b[0m\u001b[0;34m\".var39*\"\u001b[0m\u001b[0;34m)\u001b[0m\u001b[0;34m)\u001b[0m\u001b[0;34m]\u001b[0m\u001b[0;34m\u001b[0m\u001b[0;34m\u001b[0m\u001b[0m\n\u001b[0m",
      "\u001b[0;31mAttributeError\u001b[0m: 'str' object has no attribute 'contains'"
     ]
    }
   ],
   "source": [
    "train.columns[train.columns.map(lambda x: x.contains(\".var39*\"))]"
   ]
  },
  {
   "cell_type": "code",
   "execution_count": null,
   "metadata": {},
   "outputs": [],
   "source": [
    "sns.pairplot(train.iloc[:10,:])"
   ]
  },
  {
   "cell_type": "code",
   "execution_count": null,
   "metadata": {
    "collapsed": false,
    "jupyter": {
     "outputs_hidden": false
    }
   },
   "outputs": [],
   "source": [
    "# happy customers have TARGET==0, unhappy custormers have TARGET==1\n",
    "# A little less then 4% are unhappy => unbalanced dataset\n",
    "df = pd.DataFrame(train.TARGET.value_counts())\n",
    "df['Percentage'] = 100*df['TARGET']/train.shape[0]\n",
    "df"
   ]
  },
  {
   "cell_type": "markdown",
   "metadata": {},
   "source": [
    "# var3: nationality of the customer"
   ]
  },
  {
   "cell_type": "code",
   "execution_count": null,
   "metadata": {
    "collapsed": false,
    "jupyter": {
     "outputs_hidden": false
    }
   },
   "outputs": [],
   "source": [
    "# Top-10 most common values\n",
    "train.var3.value_counts()[:10]"
   ]
  },
  {
   "cell_type": "code",
   "execution_count": null,
   "metadata": {
    "collapsed": false,
    "jupyter": {
     "outputs_hidden": false
    }
   },
   "outputs": [],
   "source": [
    "# 116 values in column var3 are -999999\n",
    "# var3 is suspected to be the nationality of the customer\n",
    "# -999999 would mean that the nationality of the customer is unknown\n",
    "train.loc[train.var3==-999999].shape"
   ]
  },
  {
   "cell_type": "code",
   "execution_count": null,
   "metadata": {
    "collapsed": false,
    "jupyter": {
     "outputs_hidden": false
    }
   },
   "outputs": [],
   "source": [
    "# Replace -999999 in var3 column with most common value 2 \n",
    "# See https://www.kaggle.com/cast42/santander-customer-satisfaction/debugging-var3-999999\n",
    "# for details\n",
    "train = train.replace(-999999,2)\n",
    "train.loc[train.var3==-999999].shape"
   ]
  },
  {
   "cell_type": "markdown",
   "metadata": {},
   "source": [
    "# Add feature that counts the number of zeros in a row"
   ]
  },
  {
   "cell_type": "code",
   "execution_count": null,
   "metadata": {
    "collapsed": false,
    "jupyter": {
     "outputs_hidden": false
    }
   },
   "outputs": [],
   "source": [
    "X = train.iloc[:,:-1]\n",
    "y = train.TARGET\n",
    "\n",
    "X['n0'] = (X==0).sum(axis=1)\n",
    "train['n0'] = X['n0']"
   ]
  },
  {
   "cell_type": "markdown",
   "metadata": {},
   "source": [
    "# num_var4 : number of bank products"
   ]
  },
  {
   "cell_type": "code",
   "execution_count": null,
   "metadata": {
    "collapsed": false,
    "jupyter": {
     "outputs_hidden": false
    }
   },
   "outputs": [],
   "source": [
    "# According to dmi3kno (see https://www.kaggle.com/cast42/santander-customer-satisfaction/exploring-features/comments#115223)\n",
    "# num_var4 is the number of products. Let's plot the distribution:\n",
    "train.num_var4.hist(bins=100)\n",
    "plt.xlabel('Number of bank products')\n",
    "plt.ylabel('Number of customers in train')\n",
    "plt.title('Most customers have 1 product with the bank')\n",
    "plt.show()"
   ]
  },
  {
   "cell_type": "code",
   "execution_count": null,
   "metadata": {
    "collapsed": false,
    "jupyter": {
     "outputs_hidden": false
    }
   },
   "outputs": [],
   "source": [
    "# Let's look at the density of the of happy/unhappy customers in function of the number of bank products\n",
    "sns.FacetGrid(train, hue=\"TARGET\", size=6) \\\n",
    "   .map(plt.hist, \"num_var4\") \\\n",
    "   .add_legend()\n",
    "plt.title('Unhappy cosutomers have less products')\n",
    "plt.show()"
   ]
  },
  {
   "cell_type": "code",
   "execution_count": null,
   "metadata": {
    "collapsed": false,
    "jupyter": {
     "outputs_hidden": false
    }
   },
   "outputs": [],
   "source": [
    "train[train.TARGET==1].num_var4.hist(bins=6)\n",
    "plt.title('Amount of unhappy customers in function of the number of products');"
   ]
  },
  {
   "cell_type": "markdown",
   "metadata": {},
   "source": [
    "# Var38\n",
    "var38 is important according to XGBOOST\n",
    "see https://www.kaggle.com/cast42/santander-customer-satisfaction/xgboost-with-early-stopping/files\n",
    "\n",
    "Also RFC thinks var38 is important\n",
    "see https://www.kaggle.com/tks0123456789/santander-customer-satisfaction/data-exploration/notebook\n",
    "\n",
    "Var38 is suspected to be the mortage value with the bank. If the mortage is with another bank the national\n",
    "average is used. \n",
    "See https://www.kaggle.com/c/santander-customer-satisfaction/forums/t/19895/var38-is-mortgage-value\n",
    "\n",
    "[dmi3kno](https://www.kaggle.com/dmi3kno) says that var38 is value of the customer: [https://www.kaggle.com/cast42/santander-customer-satisfaction/exploring-features/comments#115223](https://www.kaggle.com/cast42/santander-customer-satisfaction/exploring-features/comments#115223)"
   ]
  },
  {
   "cell_type": "code",
   "execution_count": null,
   "metadata": {
    "collapsed": false,
    "jupyter": {
     "outputs_hidden": false
    }
   },
   "outputs": [],
   "source": [
    "train.var38.describe()"
   ]
  },
  {
   "cell_type": "code",
   "execution_count": null,
   "metadata": {
    "collapsed": false,
    "jupyter": {
     "outputs_hidden": false
    }
   },
   "outputs": [],
   "source": [
    "# How is var38 looking when customer is unhappy ?\n",
    "train.loc[train['TARGET']==1, 'var38'].describe()"
   ]
  },
  {
   "cell_type": "code",
   "execution_count": null,
   "metadata": {
    "collapsed": false,
    "jupyter": {
     "outputs_hidden": false
    }
   },
   "outputs": [],
   "source": [
    "# Histogram for var 38 is not normal distributed\n",
    "train.var38.hist(bins=1000);"
   ]
  },
  {
   "cell_type": "code",
   "execution_count": null,
   "metadata": {
    "collapsed": false,
    "jupyter": {
     "outputs_hidden": false
    }
   },
   "outputs": [],
   "source": [
    "train.var38.map(np.log).hist(bins=1000);"
   ]
  },
  {
   "cell_type": "code",
   "execution_count": null,
   "metadata": {
    "collapsed": false,
    "jupyter": {
     "outputs_hidden": false
    }
   },
   "outputs": [],
   "source": [
    "# where is the spike between 11 and 12  in the log plot ?\n",
    "train.var38.map(np.log).mode()"
   ]
  },
  {
   "cell_type": "code",
   "execution_count": null,
   "metadata": {
    "collapsed": false,
    "jupyter": {
     "outputs_hidden": false
    }
   },
   "outputs": [],
   "source": [
    "# What are the most common values for var38 ?\n",
    "train.var38.value_counts()"
   ]
  },
  {
   "cell_type": "markdown",
   "metadata": {},
   "source": [
    "the value 117310.979016 appears 14868 times in colum var38"
   ]
  },
  {
   "cell_type": "code",
   "execution_count": null,
   "metadata": {
    "collapsed": false,
    "jupyter": {
     "outputs_hidden": false
    }
   },
   "outputs": [],
   "source": [
    "# the most common value is very close to the mean of the other values\n",
    "train.var38[train['var38'] != 117310.979016494].mean()"
   ]
  },
  {
   "cell_type": "code",
   "execution_count": null,
   "metadata": {
    "collapsed": false,
    "jupyter": {
     "outputs_hidden": false
    }
   },
   "outputs": [],
   "source": [
    "# what if we exclude the most common value\n",
    "train.loc[~np.isclose(train.var38, 117310.979016), 'var38'].value_counts()"
   ]
  },
  {
   "cell_type": "code",
   "execution_count": null,
   "metadata": {
    "collapsed": false,
    "jupyter": {
     "outputs_hidden": false
    }
   },
   "outputs": [],
   "source": [
    "# Look at the distribution\n",
    "train.loc[~np.isclose(train.var38, 117310.979016), 'var38'].map(np.log).hist(bins=100);"
   ]
  },
  {
   "cell_type": "code",
   "execution_count": null,
   "metadata": {
    "collapsed": false,
    "jupyter": {
     "outputs_hidden": false
    }
   },
   "outputs": [],
   "source": [
    "# Above plot suggest we split up var38 into two variables\n",
    "# var38mc == 1 when var38 has the most common value and 0 otherwise\n",
    "# logvar38 is log transformed feature when var38mc is 0, zero otherwise\n",
    "train['var38mc'] = np.isclose(train.var38, 117310.979016)\n",
    "train['logvar38'] = train.loc[~train['var38mc'], 'var38'].map(np.log)\n",
    "train.loc[train['var38mc'], 'logvar38'] = 0"
   ]
  },
  {
   "cell_type": "code",
   "execution_count": null,
   "metadata": {
    "collapsed": false,
    "jupyter": {
     "outputs_hidden": false
    }
   },
   "outputs": [],
   "source": [
    "#Check for nan's\n",
    "print('Number of nan in var38mc', train['var38mc'].isnull().sum())\n",
    "print('Number of nan in logvar38',train['logvar38'].isnull().sum())"
   ]
  },
  {
   "cell_type": "markdown",
   "metadata": {},
   "source": [
    "# var15"
   ]
  },
  {
   "cell_type": "markdown",
   "metadata": {},
   "source": [
    "The most important feature for XGBoost is var15. According to [a Kaggle form post](https://www.kaggle.com/c/santander-customer-satisfaction/forums/t/19291/data-dictionary/110414#post110414)\n",
    "    var15 is the age of the customer. Let's explore var15"
   ]
  },
  {
   "cell_type": "code",
   "execution_count": null,
   "metadata": {
    "collapsed": false,
    "jupyter": {
     "outputs_hidden": false
    }
   },
   "outputs": [],
   "source": [
    "train['var15'].describe()"
   ]
  },
  {
   "cell_type": "code",
   "execution_count": null,
   "metadata": {
    "collapsed": false,
    "jupyter": {
     "outputs_hidden": false
    }
   },
   "outputs": [],
   "source": [
    "#Looks more normal, plot the histogram\n",
    "train['var15'].hist(bins=100);"
   ]
  },
  {
   "cell_type": "code",
   "execution_count": null,
   "metadata": {
    "collapsed": false,
    "jupyter": {
     "outputs_hidden": false
    }
   },
   "outputs": [],
   "source": [
    "# Let's look at the density of the age of happy/unhappy customers\n",
    "sns.FacetGrid(train, hue=\"TARGET\", size=6) \\\n",
    "   .map(sns.kdeplot, \"var15\") \\\n",
    "   .add_legend()\n",
    "plt.title('Unhappy customers are slightly older');"
   ]
  },
  {
   "cell_type": "markdown",
   "metadata": {},
   "source": [
    "# saldo_var30"
   ]
  },
  {
   "cell_type": "code",
   "execution_count": null,
   "metadata": {
    "collapsed": false,
    "jupyter": {
     "outputs_hidden": false
    }
   },
   "outputs": [],
   "source": [
    "train.saldo_var30.hist(bins=100)\n",
    "plt.xlim(0, train.saldo_var30.max());"
   ]
  },
  {
   "cell_type": "code",
   "execution_count": null,
   "metadata": {
    "collapsed": false,
    "jupyter": {
     "outputs_hidden": false
    }
   },
   "outputs": [],
   "source": [
    "# improve the plot by making the x axis logarithmic\n",
    "train['log_saldo_var30'] = train.saldo_var30.map(np.log)"
   ]
  },
  {
   "cell_type": "code",
   "execution_count": null,
   "metadata": {
    "collapsed": false,
    "jupyter": {
     "outputs_hidden": false
    }
   },
   "outputs": [],
   "source": [
    "# Let's look at the density of the age of happy/unhappy customers for saldo_var30\n",
    "sns.FacetGrid(train, hue=\"TARGET\", size=6) \\\n",
    "   .map(sns.kdeplot, \"log_saldo_var30\") \\\n",
    "   .add_legend();"
   ]
  },
  {
   "cell_type": "markdown",
   "metadata": {},
   "source": [
    "# Explore the interaction between var15 (age) and var38"
   ]
  },
  {
   "cell_type": "code",
   "execution_count": null,
   "metadata": {
    "collapsed": false,
    "jupyter": {
     "outputs_hidden": false
    }
   },
   "outputs": [],
   "source": [
    "sns.FacetGrid(train, hue=\"TARGET\", size=10) \\\n",
    "   .map(plt.scatter, \"var38\", \"var15\") \\\n",
    "   .add_legend();"
   ]
  },
  {
   "cell_type": "code",
   "execution_count": null,
   "metadata": {
    "collapsed": false,
    "jupyter": {
     "outputs_hidden": false
    }
   },
   "outputs": [],
   "source": [
    "sns.FacetGrid(train, hue=\"TARGET\", size=10) \\\n",
    "   .map(plt.scatter, \"logvar38\", \"var15\") \\\n",
    "   .add_legend()\n",
    "plt.ylim([0,120]); # Age must be positive ;-)"
   ]
  },
  {
   "cell_type": "code",
   "execution_count": null,
   "metadata": {
    "collapsed": false,
    "jupyter": {
     "outputs_hidden": false
    }
   },
   "outputs": [],
   "source": [
    "# Exclude most common value for var38 \n",
    "sns.FacetGrid(train[~train.var38mc], hue=\"TARGET\", size=10) \\\n",
    "   .map(plt.scatter, \"logvar38\", \"var15\") \\\n",
    "   .add_legend()\n",
    "plt.ylim([0,120]);"
   ]
  },
  {
   "cell_type": "code",
   "execution_count": null,
   "metadata": {
    "collapsed": false,
    "jupyter": {
     "outputs_hidden": false
    }
   },
   "outputs": [],
   "source": [
    "# What is distribution of the age when var38 has it's most common value ?\n",
    "sns.FacetGrid(train[train.var38mc], hue=\"TARGET\", size=6) \\\n",
    "   .map(sns.kdeplot, \"var15\") \\\n",
    "   .add_legend();"
   ]
  },
  {
   "cell_type": "code",
   "execution_count": null,
   "metadata": {
    "collapsed": false,
    "jupyter": {
     "outputs_hidden": false
    }
   },
   "outputs": [],
   "source": [
    "# What is density of n0 ?\n",
    "sns.FacetGrid(train, hue=\"TARGET\", size=6) \\\n",
    "   .map(sns.kdeplot, \"n0\") \\\n",
    "   .add_legend()\n",
    "plt.title('Unhappy customers have a lot of features that are zero');"
   ]
  },
  {
   "cell_type": "markdown",
   "metadata": {},
   "source": [
    "# Select the most important features"
   ]
  },
  {
   "cell_type": "code",
   "execution_count": null,
   "metadata": {
    "collapsed": false,
    "jupyter": {
     "outputs_hidden": false
    }
   },
   "outputs": [],
   "source": [
    "from sklearn.feature_selection import SelectPercentile\n",
    "from sklearn.feature_selection import f_classif,chi2\n",
    "from sklearn.preprocessing import Binarizer, scale\n",
    "\n",
    "# First select features based on chi2 and f_classif\n",
    "p = 3\n",
    "\n",
    "X_bin = Binarizer().fit_transform(scale(X))\n",
    "selectChi2 = SelectPercentile(chi2, percentile=p).fit(X_bin, y)\n",
    "selectF_classif = SelectPercentile(f_classif, percentile=p).fit(X, y)\n",
    "\n",
    "chi2_selected = selectChi2.get_support()\n",
    "chi2_selected_features = [ f for i,f in enumerate(X.columns) if chi2_selected[i]]\n",
    "print('Chi2 selected {} features {}.'.format(chi2_selected.sum(),\n",
    "   chi2_selected_features))\n",
    "f_classif_selected = selectF_classif.get_support()\n",
    "f_classif_selected_features = [ f for i,f in enumerate(X.columns) if f_classif_selected[i]]\n",
    "print('F_classif selected {} features {}.'.format(f_classif_selected.sum(),\n",
    "   f_classif_selected_features))\n",
    "selected = chi2_selected & f_classif_selected\n",
    "print('Chi2 & F_classif selected {} features'.format(selected.sum()))\n",
    "features = [ f for f,s in zip(X.columns, selected) if s]\n",
    "print (features)"
   ]
  },
  {
   "cell_type": "code",
   "execution_count": null,
   "metadata": {
    "collapsed": false,
    "jupyter": {
     "outputs_hidden": false
    }
   },
   "outputs": [],
   "source": [
    "# Make a dataframe with the selected features and the target variable\n",
    "X_sel = train[features+['TARGET']]"
   ]
  },
  {
   "cell_type": "markdown",
   "metadata": {},
   "source": [
    "# var36"
   ]
  },
  {
   "cell_type": "code",
   "execution_count": null,
   "metadata": {
    "collapsed": false,
    "jupyter": {
     "outputs_hidden": false
    }
   },
   "outputs": [],
   "source": [
    "X_sel['var36'].value_counts()"
   ]
  },
  {
   "cell_type": "markdown",
   "metadata": {},
   "source": [
    "var36 is most of the times 99 or [0,1,2,3]"
   ]
  },
  {
   "cell_type": "code",
   "execution_count": null,
   "metadata": {
    "collapsed": false,
    "jupyter": {
     "outputs_hidden": false
    }
   },
   "outputs": [],
   "source": [
    "# Let's plot the density in function of the target variabele\n",
    "sns.FacetGrid(train, hue=\"TARGET\", size=6) \\\n",
    "   .map(sns.kdeplot, \"var36\") \\\n",
    "   .add_legend()\n",
    "plt.title('If var36 is 0,1,2 or 3 => less unhappy customers');"
   ]
  },
  {
   "cell_type": "markdown",
   "metadata": {},
   "source": [
    "In above plot we see that the density of unhappy custormers is lower when var36 is not 99"
   ]
  },
  {
   "cell_type": "code",
   "execution_count": null,
   "metadata": {
    "collapsed": false,
    "jupyter": {
     "outputs_hidden": false
    }
   },
   "outputs": [],
   "source": [
    "# var36 in function of var38 (most common value excluded) \n",
    "sns.FacetGrid(train[~train.var38mc], hue=\"TARGET\", size=10) \\\n",
    "   .map(plt.scatter, \"var36\", \"logvar38\") \\\n",
    "   .add_legend();"
   ]
  },
  {
   "cell_type": "markdown",
   "metadata": {},
   "source": [
    "Let's seperate that in two plots"
   ]
  },
  {
   "cell_type": "code",
   "execution_count": null,
   "metadata": {
    "collapsed": false,
    "jupyter": {
     "outputs_hidden": false
    }
   },
   "outputs": [],
   "source": [
    "sns.FacetGrid(train[(~train.var38mc) & (train.var36 < 4)], hue=\"TARGET\", size=10) \\\n",
    "   .map(plt.scatter, \"var36\", \"logvar38\") \\\n",
    "   .add_legend()\n",
    "plt.title('If var36==0, only happy customers');"
   ]
  },
  {
   "cell_type": "code",
   "execution_count": null,
   "metadata": {
    "collapsed": false,
    "jupyter": {
     "outputs_hidden": false
    }
   },
   "outputs": [],
   "source": [
    "# Let's plot the density in function of the target variabele, when var36 = 99\n",
    "sns.FacetGrid(train[(~train.var38mc) & (train.var36 ==99)], hue=\"TARGET\", size=6) \\\n",
    "   .map(sns.kdeplot, \"logvar38\") \\\n",
    "   .add_legend();"
   ]
  },
  {
   "cell_type": "markdown",
   "metadata": {},
   "source": [
    "# num_var5"
   ]
  },
  {
   "cell_type": "code",
   "execution_count": null,
   "metadata": {
    "collapsed": false,
    "jupyter": {
     "outputs_hidden": false
    }
   },
   "outputs": [],
   "source": [
    "train.num_var5.value_counts()"
   ]
  },
  {
   "cell_type": "code",
   "execution_count": null,
   "metadata": {
    "collapsed": false,
    "jupyter": {
     "outputs_hidden": false
    }
   },
   "outputs": [],
   "source": [
    "train[train.TARGET==1].num_var5.value_counts()"
   ]
  },
  {
   "cell_type": "code",
   "execution_count": null,
   "metadata": {
    "collapsed": false,
    "jupyter": {
     "outputs_hidden": false
    }
   },
   "outputs": [],
   "source": [
    "train[train.TARGET==0].num_var5.value_counts()"
   ]
  },
  {
   "cell_type": "code",
   "execution_count": null,
   "metadata": {
    "collapsed": false,
    "jupyter": {
     "outputs_hidden": false
    }
   },
   "outputs": [],
   "source": [
    "sns.FacetGrid(train, hue=\"TARGET\", size=6) \\\n",
    "   .map(plt.hist, \"num_var5\") \\\n",
    "   .add_legend();"
   ]
  },
  {
   "cell_type": "code",
   "execution_count": null,
   "metadata": {
    "collapsed": false,
    "jupyter": {
     "outputs_hidden": false
    }
   },
   "outputs": [],
   "source": [
    "sns.FacetGrid(train, hue=\"TARGET\", size=6) \\\n",
    "   .map(sns.kdeplot, \"num_var5\") \\\n",
    "   .add_legend();"
   ]
  },
  {
   "cell_type": "code",
   "execution_count": null,
   "metadata": {
    "collapsed": false,
    "jupyter": {
     "outputs_hidden": false
    }
   },
   "outputs": [],
   "source": [
    "sns.pairplot(train[['var15','var36','logvar38','TARGET']], hue=\"TARGET\", size=2, diag_kind=\"kde\");"
   ]
  },
  {
   "cell_type": "code",
   "execution_count": null,
   "metadata": {
    "collapsed": false,
    "jupyter": {
     "outputs_hidden": false
    }
   },
   "outputs": [],
   "source": [
    "train[['var15','var36','logvar38','TARGET']].boxplot(by=\"TARGET\", figsize=(12, 6));"
   ]
  },
  {
   "cell_type": "code",
   "execution_count": null,
   "metadata": {
    "collapsed": false,
    "jupyter": {
     "outputs_hidden": false
    }
   },
   "outputs": [],
   "source": [
    "# A final multivariate visualization technique pandas has is radviz\n",
    "# Which puts each feature as a point on a 2D plane, and then simulates\n",
    "# having each sample attached to those points through a spring weighted\n",
    "# by the relative value for that feature\n",
    "from pandas.tools.plotting import radviz\n",
    "radviz(train[['var15','var36','logvar38','TARGET']], \"TARGET\");"
   ]
  },
  {
   "cell_type": "markdown",
   "metadata": {},
   "source": [
    "# now look at all 8 features together"
   ]
  },
  {
   "cell_type": "code",
   "execution_count": null,
   "metadata": {
    "collapsed": false,
    "jupyter": {
     "outputs_hidden": false
    }
   },
   "outputs": [],
   "source": [
    "features"
   ]
  },
  {
   "cell_type": "code",
   "execution_count": null,
   "metadata": {
    "collapsed": false,
    "jupyter": {
     "outputs_hidden": false
    }
   },
   "outputs": [],
   "source": [
    "radviz(train[features+['TARGET']], \"TARGET\");"
   ]
  },
  {
   "cell_type": "code",
   "execution_count": null,
   "metadata": {
    "collapsed": false,
    "jupyter": {
     "outputs_hidden": false
    }
   },
   "outputs": [],
   "source": [
    "sns.pairplot(train[features+['TARGET']], hue=\"TARGET\", size=2, diag_kind=\"kde\");"
   ]
  },
  {
   "cell_type": "markdown",
   "metadata": {},
   "source": [
    "# Correlations"
   ]
  },
  {
   "cell_type": "code",
   "execution_count": null,
   "metadata": {
    "collapsed": false,
    "jupyter": {
     "outputs_hidden": false
    }
   },
   "outputs": [],
   "source": [
    "cor_mat = X.corr()"
   ]
  },
  {
   "cell_type": "code",
   "execution_count": null,
   "metadata": {
    "collapsed": false,
    "jupyter": {
     "outputs_hidden": false
    }
   },
   "outputs": [],
   "source": [
    "f, ax = plt.subplots(figsize=(15, 12))\n",
    "# Draw the heatmap with the mask and correct aspect ratio\n",
    "sns.heatmap(cor_mat,linewidths=.5, ax=ax);"
   ]
  },
  {
   "cell_type": "code",
   "execution_count": null,
   "metadata": {
    "collapsed": false,
    "jupyter": {
     "outputs_hidden": false
    }
   },
   "outputs": [],
   "source": [
    "cor_mat = X_sel.corr()"
   ]
  },
  {
   "cell_type": "code",
   "execution_count": null,
   "metadata": {
    "collapsed": false,
    "jupyter": {
     "outputs_hidden": false
    }
   },
   "outputs": [],
   "source": [
    "f, ax = plt.subplots(figsize=(15, 12))\n",
    "# Draw the heatmap with the mask and correct aspect ratio\n",
    "sns.heatmap(cor_mat,linewidths=.5, ax=ax);"
   ]
  },
  {
   "cell_type": "code",
   "execution_count": null,
   "metadata": {
    "collapsed": false,
    "jupyter": {
     "outputs_hidden": false
    }
   },
   "outputs": [],
   "source": [
    "# only important correlations and not auto-correlations\n",
    "threshold = 0.7\n",
    "important_corrs = (cor_mat[abs(cor_mat) > threshold][cor_mat != 1.0]) \\\n",
    "    .unstack().dropna().to_dict()\n",
    "unique_important_corrs = pd.DataFrame(\n",
    "    list(set([(tuple(sorted(key)), important_corrs[key]) \\\n",
    "    for key in important_corrs])), columns=['attribute pair', 'correlation'])\n",
    "# sorted by absolute value\n",
    "unique_important_corrs = unique_important_corrs.ix[\n",
    "    abs(unique_important_corrs['correlation']).argsort()[::-1]]\n",
    "unique_important_corrs"
   ]
  },
  {
   "cell_type": "markdown",
   "metadata": {},
   "source": [
    "# Clusters "
   ]
  },
  {
   "cell_type": "code",
   "execution_count": null,
   "metadata": {
    "collapsed": false,
    "jupyter": {
     "outputs_hidden": false
    }
   },
   "outputs": [],
   "source": [
    "# Recipe from https://github.com/mgalardini/python_plotting_snippets/blob/master/notebooks/clusters.ipynb\n",
    "import matplotlib.patches as patches\n",
    "from scipy.cluster import hierarchy\n",
    "from scipy.stats.mstats import mquantiles\n",
    "from scipy.cluster.hierarchy import dendrogram, linkage"
   ]
  },
  {
   "cell_type": "code",
   "execution_count": null,
   "metadata": {
    "collapsed": false,
    "jupyter": {
     "outputs_hidden": false
    }
   },
   "outputs": [],
   "source": [
    "# Correlate the data\n",
    "# also precompute the linkage\n",
    "# so we can pick up the \n",
    "# hierarchical thresholds beforehand\n",
    "\n",
    "from sklearn.preprocessing import scale\n",
    "from sklearn.preprocessing import StandardScaler\n",
    "\n",
    "# scale to mean 0, variance 1\n",
    "train_std = pd.DataFrame(scale(X_sel))\n",
    "train_std.columns = X_sel.columns\n",
    "m = train_std.corr()\n",
    "l = linkage(m, 'ward')"
   ]
  },
  {
   "cell_type": "code",
   "execution_count": null,
   "metadata": {
    "collapsed": false,
    "jupyter": {
     "outputs_hidden": false
    }
   },
   "outputs": [],
   "source": [
    "# Plot the clustermap\n",
    "# Save the returned object for further plotting\n",
    "mclust = sns.clustermap(m,\n",
    "               linewidths=0,\n",
    "               cmap=plt.get_cmap('RdBu'),\n",
    "               vmax=1,\n",
    "               vmin=-1,\n",
    "               figsize=(14, 14),\n",
    "               row_linkage=l,\n",
    "               col_linkage=l)"
   ]
  },
  {
   "cell_type": "code",
   "execution_count": null,
   "metadata": {
    "collapsed": false,
    "jupyter": {
     "outputs_hidden": false
    }
   },
   "outputs": [],
   "source": [
    "# Threshold 1: median of the\n",
    "# distance thresholds computed by scipy\n",
    "t = np.median(hierarchy.maxdists(l))"
   ]
  },
  {
   "cell_type": "code",
   "execution_count": null,
   "metadata": {
    "collapsed": false,
    "jupyter": {
     "outputs_hidden": false
    }
   },
   "outputs": [],
   "source": [
    "# Plot the clustermap\n",
    "# Save the returned object for further plotting\n",
    "mclust = sns.clustermap(m,\n",
    "               linewidths=0,\n",
    "               cmap=plt.get_cmap('RdBu'),\n",
    "               vmax=1,\n",
    "               vmin=-1,\n",
    "               figsize=(12, 12),\n",
    "               row_linkage=l,\n",
    "               col_linkage=l)\n",
    "\n",
    "# Draw the threshold lines\n",
    "mclust.ax_col_dendrogram.hlines(t,\n",
    "                               0,\n",
    "                               m.shape[0]*10,\n",
    "                               colors='r',\n",
    "                               linewidths=2,\n",
    "                               zorder=1)\n",
    "mclust.ax_row_dendrogram.vlines(t,\n",
    "                               0,\n",
    "                               m.shape[0]*10,\n",
    "                               colors='r',\n",
    "                               linewidths=2,\n",
    "                               zorder=1)\n",
    "\n",
    "# Extract the clusters\n",
    "clusters = hierarchy.fcluster(l, t, 'distance')\n",
    "for c in set(clusters):\n",
    "    # Retrieve the position in the clustered matrix\n",
    "    index = [x for x in range(m.shape[0])\n",
    "             if mclust.data2d.columns[x] in m.index[clusters == c]]\n",
    "    # No singletons, please\n",
    "    if len(index) == 1:\n",
    "        continue\n",
    "\n",
    "    # Draw a rectangle around the cluster\n",
    "    mclust.ax_heatmap.add_patch(\n",
    "        patches.Rectangle(\n",
    "            (min(index),\n",
    "             m.shape[0] - max(index) - 1),\n",
    "                len(index),\n",
    "                len(index),\n",
    "                facecolor='none',\n",
    "                edgecolor='r',\n",
    "                lw=3)\n",
    "        )\n",
    "\n",
    "plt.title('Cluster matrix')\n",
    "\n",
    "pass"
   ]
  },
  {
   "cell_type": "markdown",
   "metadata": {},
   "source": [
    "For clustering with more features, have a look at: [https://www.kaggle.com/cast42/santander-customer-satisfaction/correlation-pairs](https://www.kaggle.com/cast42/santander-customer-satisfaction/correlation-pairs)"
   ]
  }
 ],
 "metadata": {
  "kernelspec": {
   "display_name": "Python 3",
   "language": "python",
   "name": "python3"
  },
  "language_info": {
   "codemirror_mode": {
    "name": "ipython",
    "version": 3
   },
   "file_extension": ".py",
   "mimetype": "text/x-python",
   "name": "python",
   "nbconvert_exporter": "python",
   "pygments_lexer": "ipython3",
   "version": "3.7.3"
  },
  "toc-showcode": true
 },
 "nbformat": 4,
 "nbformat_minor": 4
}
